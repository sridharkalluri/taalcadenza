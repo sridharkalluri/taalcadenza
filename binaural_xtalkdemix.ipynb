{
 "cells": [
  {
   "cell_type": "markdown",
   "metadata": {
    "colab_type": "text",
    "id": "view-in-github"
   },
   "source": [
    "<a href=\"https://colab.research.google.com/github/sridharkalluri/taalcadenza/blob/main/binaural_xtalk_demixing_estimation.ipynb\" target=\"_parent\"><img src=\"https://colab.research.google.com/assets/colab-badge.svg\" alt=\"Open In Colab\"/></a>"
   ]
  },
  {
   "cell_type": "markdown",
   "metadata": {
    "id": "MB6UO0zma4wi"
   },
   "source": [
    "\n",
    "# Binaural cross-talk de-mixing estimation\n",
    "\n",
    "**Author**: [Sridhar Kalluri](https://github.com/skim0514)_\n",
    "\n",
    "Based on TorchAudio demo of Hybrid Demucs model for music source separation.\n"
   ]
  },
  {
   "cell_type": "markdown",
   "metadata": {
    "id": "lidTaYIaa4wl"
   },
   "source": [
    "## 1. Overview\n",
    "\n",
    "Binaural cross-talk de-mixing with the following steps\n",
    "\n",
    "1. Build the pipeline -- install dependencies, load audio file, specify model, specify computational device.\n",
    "2. Format the waveform into chunks of expected sizes and loop through chunks (with overlap) and feed into pipeline.\n",
    "3. Collect output chunks and combine according to the way they have been overlapped.\n",
    "\n",
    "\n"
   ]
  },
  {
   "cell_type": "markdown",
   "metadata": {
    "id": "fXXzCJNBa4wl"
   },
   "source": [
    "## 2. Preparation\n",
    "\n",
    "Install dependencies -- ``torchaudio`` and ``torch``.\n",
    "\n",
    "\n"
   ]
  },
  {
   "cell_type": "code",
   "execution_count": 1,
   "metadata": {
    "colab": {
     "base_uri": "https://localhost:8080/"
    },
    "id": "FH0gctW2a4wm",
    "outputId": "f8f478d9-3947-4df1-d8bd-88078a589bd0"
   },
   "outputs": [
    {
     "name": "stdout",
     "output_type": "stream",
     "text": [
      "2.1.0+cu118\n",
      "2.1.0+cu118\n"
     ]
    }
   ],
   "source": [
    "import torch\n",
    "import torchaudio\n",
    "\n",
    "print(torch.__version__)\n",
    "print(torchaudio.__version__)\n",
    "\n",
    "import matplotlib.pyplot as plt"
   ]
  },
  {
   "cell_type": "code",
   "execution_count": 2,
   "metadata": {
    "id": "DSudHqHJa4wn"
   },
   "outputs": [],
   "source": [
    "from IPython.display import Audio\n",
    "#from torchaudio.pipelines import HDEMUCS_HIGH_MUSDB_PLUS\n",
    "#from torchaudio.utils import download_asset"
   ]
  },
  {
   "cell_type": "markdown",
   "metadata": {
    "id": "tWNYoNqoa4wn"
   },
   "source": [
    "## 3. Construct the pipeline\n",
    "\n",
    "Pre-trained model weights and related pipeline components are bundled as\n",
    ":py:func:`torchaudio.pipelines.HDEMUCS_HIGH_MUSDB_PLUS`. This is a\n",
    ":py:class:`torchaudio.models.HDemucs` model trained on\n",
    "[MUSDB18-HQ](https://zenodo.org/record/3338373)_ and additional\n",
    "internal extra training data.\n",
    "This specific model is suited for higher sample rates, around 44.1 kHZ\n",
    "and has a nfft value of 4096 with a depth of 6 in the model implementation.\n",
    "\n"
   ]
  },
  {
   "cell_type": "code",
   "execution_count": 40,
   "metadata": {
    "colab": {
     "base_uri": "https://localhost:8080/"
    },
    "id": "UXXrVGEpa4wn",
    "outputId": "9dbdf054-6f06-4694-ff13-c2df369ff408"
   },
   "outputs": [
    {
     "data": {
      "text/plain": [
       "BinauralFeatures(\n",
       "  (spec_centroid): Sequential(\n",
       "    (0): SpectralCentroid()\n",
       "  )\n",
       ")"
      ]
     },
     "execution_count": 40,
     "metadata": {},
     "output_type": "execute_result"
    }
   ],
   "source": [
    "# Define model\n",
    "#class NeuralNetwork(nn.Module):\n",
    "#    def __init__(self):\n",
    "#        super().__init__()\n",
    "#        self.flatten = nn.Flatten()\n",
    "#        self.linear_relu_stack = nn.Sequential(\n",
    "#            nn.Linear(28*28, 512),\n",
    "#            nn.ReLU(),\n",
    "#            nn.Linear(512, 512),\n",
    "#            nn.ReLU(),\n",
    "#            nn.Linear(512, 10)\n",
    "#        )\n",
    "\n",
    "#    def forward(self, x):\n",
    "#        x = self.flatten(x)\n",
    "#        logits = self.linear_relu_stack(x)\n",
    "#        return logits\n",
    "#\n",
    "#model = NeuralNetwork().to(device)\n",
    "#print(model)\n",
    "\n",
    "#bundle = HDEMUCS_HIGH_MUSDB_PLUS\n",
    "#model = bundle.get_model()\n",
    "\n",
    "# Define custom feature extraction pipeline.\n",
    "#\n",
    "# 1. Resample audio\n",
    "# 2. Convert to mel-scale spectrogram\n",
    "# 3. Apply channel-wise binaural calculations\n",
    "# 4. Convert to mel-scale\n",
    "#\n",
    "class BinauralFeatures(torch.nn.Module):\n",
    "    def __init__(\n",
    "        self,\n",
    "        input_freq=44100,\n",
    "        resample_freq=22050,\n",
    "        n_fft=256,\n",
    "        n_mel=32,\n",
    "        n_hop=16\n",
    "    ):\n",
    "        super().__init__()\n",
    "        #self.resample = torchaudio.transforms.Resample(orig_freq=input_freq, new_freq=resample_freq)\n",
    "        #self.mel_spect = torchaudio.transforms.MelSpectrogram(n_fft=n_fft,\n",
    "        #                                                     sample_rate = resample_freq,\n",
    "        #                                                     n_mels = n_mel)\n",
    "\n",
    "        self.spec_centroid = torch.nn.Sequential(\n",
    "            #torchaudio.transforms.Resample(input_freq, resample_freq),\n",
    "            torchaudio.transforms.SpectralCentroid(sample_rate = resample_freq, n_fft= n_fft, hop_length = n_hop),\n",
    "        )\n",
    "\n",
    "\n",
    "    def forward(self, waveform: torch.Tensor) -> torch.Tensor:\n",
    "        # Compute spectral centroid\n",
    "        centroid = self.spec_centroid(waveform)\n",
    "        # Compute centroid statistics\n",
    "        avgcnt = torch.mean(centroid,1) #mean spectral centroid\n",
    "        stdcnt = torch.std(centroid,1)  #standard deviation of spectral centroid\n",
    "        slpcnt = torch.diff(centroid,1)/(n_hop/resample_freq) #slope of centroid versus time\n",
    "        avgslpcnt = torch.mean(slpcnt)  #avg slope of centroid\n",
    "        iacnt = torch.diff(centroid,0)       #interaural centroid difference\n",
    "        avgiacnt = torch.mean(iacnt)    #avg interaural centroid difference\n",
    "        avgslpiacnt = torch.mean(torch.diff(iacnt)) #avg slope of interaural centroid difference\n",
    "\n",
    "        feats = {\n",
    "                  \"meancentroids\": avgcnt,\n",
    "                  \"stdcentroids\": stdcnt,\n",
    "                  \"meancentroidslope\": avgslpcnt,\n",
    "                  \"avgiacnt\": avgiacnt,\n",
    "                }\n",
    "\n",
    "        featvec = torch.cat([avgcnt, stdcnt, avgslpcnt, avgiacnt, avgslpiacnt],dim=1)\n",
    "\n",
    "        return featvec\n",
    "\n",
    "device = torch.device(\"cuda:0\" if torch.cuda.is_available() else \"cpu\")\n",
    "model = BinauralFeatures()\n",
    "model.to(device)\n"
   ]
  },
  {
   "cell_type": "markdown",
   "metadata": {
    "id": "RjzaGlrwa4wn"
   },
   "source": [
    "## 4. Configure the application function\n",
    "\n",
    "Difficult to have sufficient memory to apply a large model to\n",
    "an entire song at once. To work around this limitation,\n",
    "obtain the separated sources of a full song by\n",
    "chunking the song into smaller segments and run through the\n",
    "model piece by piece, and then rearrange back together.\n",
    "\n",
    "When doing this, it is important to ensure some\n",
    "overlap between each of the chunks, to accommodate for artifacts at the\n",
    "edges. Due to the nature of the model, sometimes the edges have\n",
    "inaccurate or undesired sounds included.\n",
    "\n",
    "The chunking and arrangement implementation takes an overlap of 1 second on each side, and then does\n",
    "a linear fade in and fade out on each side. Summing faded overlaps results in constant intensity throughout.\n",
    "This accommodates for the artifacts by using less of the edges of the\n",
    "model outputs.\n",
    "\n",
    "<img src=\"https://download.pytorch.org/torchaudio/tutorial-assets/HDemucs_Drawing.jpg\">\n",
    "\n"
   ]
  },
  {
   "cell_type": "code",
   "execution_count": 11,
   "metadata": {
    "id": "mz3J6RFVa4wo"
   },
   "outputs": [],
   "source": [
    "from torchaudio.transforms import Fade\n",
    "sample_rate = 22050\n",
    "\n",
    "def featureanalysis(\n",
    "    mix,\n",
    "    segment=10.0,\n",
    "    overlap=0.1,\n",
    "    device=None,\n",
    "):\n",
    "    \"\"\"\n",
    "    Conduct feature analysis on a stereo signal. Use fade, and add segments together in order to add model segment by segment.\n",
    "\n",
    "    Args:\n",
    "        segment (int): segment length in seconds\n",
    "        device (torch.device, str, or None): if provided, device on which to\n",
    "            execute the computation, otherwise `mix.device` is assumed.\n",
    "            When `device` is different from `mix.device`, only local computations will\n",
    "            be on `device`, while the entire tracks will be stored on `mix.device`.\n",
    "    \"\"\"\n",
    "    if device is None:\n",
    "        device = mix.device\n",
    "    else:\n",
    "        device = torch.device(device)\n",
    "\n",
    "    batch, channels, length = mix.shape\n",
    "\n",
    "    chunk_len = int(sample_rate * segment * (1 + overlap))\n",
    "    start = 0\n",
    "    end = chunk_len\n",
    "    overlap_frames = overlap * sample_rate\n",
    "    fade = Fade(fade_in_len=0, fade_out_len=int(overlap_frames), fade_shape=\"linear\")\n",
    "\n",
    "    final = torch.zeros(batch, channels, length, device=device)\n",
    "\n",
    "    while start < length - overlap_frames:\n",
    "        chunk = mix[:, :, start:end]\n",
    "        out = binauralanalysis(chunk)\n",
    "        out = fade(out)\n",
    "        final[:, :, :, start:end] += out\n",
    "        if start == 0:\n",
    "            fade.fade_in_len = int(overlap_frames)\n",
    "            start += int(chunk_len - overlap_frames)\n",
    "        else:\n",
    "            start += chunk_len\n",
    "        end += chunk_len\n",
    "        if end >= length:\n",
    "            fade.fade_out_len = 0\n",
    "    return final\n",
    "\n",
    "\n",
    "def plot_spectrogram(stft, title=\"Spectrogram\"):\n",
    "    magnitude = stft.abs()\n",
    "    spectrogram = 20 * torch.log10(magnitude + 1e-8).numpy()\n",
    "    _, axis = plt.subplots(1, 1)\n",
    "    axis.imshow(spectrogram, cmap=\"viridis\", vmin=-60, vmax=0, origin=\"lower\", aspect=\"auto\")\n",
    "    axis.set_title(title)\n",
    "    plt.tight_layout()\n",
    "\n",
    "\n",
    "def binauralanalysis(signal):\n",
    "  N_FFT = 256\n",
    "  N_HOP = 16\n",
    "  ANA_SAMPLE_RATE = 22050\n",
    "  #stft = torchaudio.transforms.Spectrogram(\n",
    "  #    n_fft=N_FFT,\n",
    "  #    hop_length=N_HOP,\n",
    "  #    power=1 #power = 0 (magnitude), 1 (power), 2 (none)\n",
    "  #)\n",
    "  #yft = stft(signal)\n",
    "\n",
    "  speccentroid = torchaudio.transforms.SpectralCentroid(\n",
    "      sample_rate = ANA_SAMPLE_RATE,\n",
    "      n_fft= N_FFT,\n",
    "      hop_length = N_HOP\n",
    "  )\n",
    "  ycn = speccentroid(signal)\n",
    "  avgcnt = torch.mean(ycn,1) #mean spectral centroid\n",
    "  stdcnt = torch.std(ycn,1)  #standard deviation of spectral centroid\n",
    "  slpcnt = torch.diff(ycn,1)/(N_HOP/ANA_SAMPLE_RATE)\n",
    "  avgslpcnt = torch.mean(slpcnt) #avg change of centroid\n",
    "  iacnt = torch.diff(ycn,0)\n",
    "  avgiacnt = torch.mean(iacnt)\n",
    "\n",
    "\n",
    "  feats = {\n",
    "                  \"meancentroids\": avgcnt,\n",
    "                  \"stdcentroids\": stdcnt,\n",
    "                  \"meancentroidslope\": avgslpcnt,\n",
    "                  \"avgiacnt\": avgiacnt,\n",
    "                }\n",
    "\n",
    "  return feats\n",
    "\n",
    "\n"
   ]
  },
  {
   "cell_type": "markdown",
   "metadata": {
    "id": "kEneBBa1a4wo"
   },
   "source": [
    "## 5. Run Model\n",
    "\n",
    "Compute features\n",
    "\n",
    "Test song, use Actions - One Minute Smile from\n",
    "MedleyDB (Creative Commons BY-NC-SA 4.0). This is also located in\n",
    "[MUSDB18-HQ](https://zenodo.org/record/3338373)_ dataset within\n",
    "the ``train`` sources."
   ]
  },
  {
   "cell_type": "code",
   "execution_count": 7,
   "metadata": {
    "colab": {
     "base_uri": "https://localhost:8080/",
     "height": 90
    },
    "id": "fRc82X6QzD8g",
    "outputId": "45109c06-eb47-4974-95fb-70a66852c90c"
   },
   "outputs": [
    {
     "data": {
      "text/html": [
       "\n",
       "     <input type=\"file\" id=\"files-6c0259eb-4b56-45bb-9c54-a12738db9422\" name=\"files[]\" multiple disabled\n",
       "        style=\"border:none\" />\n",
       "     <output id=\"result-6c0259eb-4b56-45bb-9c54-a12738db9422\">\n",
       "      Upload widget is only available when the cell has been executed in the\n",
       "      current browser session. Please rerun this cell to enable.\n",
       "      </output>\n",
       "      <script>// Copyright 2017 Google LLC\n",
       "//\n",
       "// Licensed under the Apache License, Version 2.0 (the \"License\");\n",
       "// you may not use this file except in compliance with the License.\n",
       "// You may obtain a copy of the License at\n",
       "//\n",
       "//      http://www.apache.org/licenses/LICENSE-2.0\n",
       "//\n",
       "// Unless required by applicable law or agreed to in writing, software\n",
       "// distributed under the License is distributed on an \"AS IS\" BASIS,\n",
       "// WITHOUT WARRANTIES OR CONDITIONS OF ANY KIND, either express or implied.\n",
       "// See the License for the specific language governing permissions and\n",
       "// limitations under the License.\n",
       "\n",
       "/**\n",
       " * @fileoverview Helpers for google.colab Python module.\n",
       " */\n",
       "(function(scope) {\n",
       "function span(text, styleAttributes = {}) {\n",
       "  const element = document.createElement('span');\n",
       "  element.textContent = text;\n",
       "  for (const key of Object.keys(styleAttributes)) {\n",
       "    element.style[key] = styleAttributes[key];\n",
       "  }\n",
       "  return element;\n",
       "}\n",
       "\n",
       "// Max number of bytes which will be uploaded at a time.\n",
       "const MAX_PAYLOAD_SIZE = 100 * 1024;\n",
       "\n",
       "function _uploadFiles(inputId, outputId) {\n",
       "  const steps = uploadFilesStep(inputId, outputId);\n",
       "  const outputElement = document.getElementById(outputId);\n",
       "  // Cache steps on the outputElement to make it available for the next call\n",
       "  // to uploadFilesContinue from Python.\n",
       "  outputElement.steps = steps;\n",
       "\n",
       "  return _uploadFilesContinue(outputId);\n",
       "}\n",
       "\n",
       "// This is roughly an async generator (not supported in the browser yet),\n",
       "// where there are multiple asynchronous steps and the Python side is going\n",
       "// to poll for completion of each step.\n",
       "// This uses a Promise to block the python side on completion of each step,\n",
       "// then passes the result of the previous step as the input to the next step.\n",
       "function _uploadFilesContinue(outputId) {\n",
       "  const outputElement = document.getElementById(outputId);\n",
       "  const steps = outputElement.steps;\n",
       "\n",
       "  const next = steps.next(outputElement.lastPromiseValue);\n",
       "  return Promise.resolve(next.value.promise).then((value) => {\n",
       "    // Cache the last promise value to make it available to the next\n",
       "    // step of the generator.\n",
       "    outputElement.lastPromiseValue = value;\n",
       "    return next.value.response;\n",
       "  });\n",
       "}\n",
       "\n",
       "/**\n",
       " * Generator function which is called between each async step of the upload\n",
       " * process.\n",
       " * @param {string} inputId Element ID of the input file picker element.\n",
       " * @param {string} outputId Element ID of the output display.\n",
       " * @return {!Iterable<!Object>} Iterable of next steps.\n",
       " */\n",
       "function* uploadFilesStep(inputId, outputId) {\n",
       "  const inputElement = document.getElementById(inputId);\n",
       "  inputElement.disabled = false;\n",
       "\n",
       "  const outputElement = document.getElementById(outputId);\n",
       "  outputElement.innerHTML = '';\n",
       "\n",
       "  const pickedPromise = new Promise((resolve) => {\n",
       "    inputElement.addEventListener('change', (e) => {\n",
       "      resolve(e.target.files);\n",
       "    });\n",
       "  });\n",
       "\n",
       "  const cancel = document.createElement('button');\n",
       "  inputElement.parentElement.appendChild(cancel);\n",
       "  cancel.textContent = 'Cancel upload';\n",
       "  const cancelPromise = new Promise((resolve) => {\n",
       "    cancel.onclick = () => {\n",
       "      resolve(null);\n",
       "    };\n",
       "  });\n",
       "\n",
       "  // Wait for the user to pick the files.\n",
       "  const files = yield {\n",
       "    promise: Promise.race([pickedPromise, cancelPromise]),\n",
       "    response: {\n",
       "      action: 'starting',\n",
       "    }\n",
       "  };\n",
       "\n",
       "  cancel.remove();\n",
       "\n",
       "  // Disable the input element since further picks are not allowed.\n",
       "  inputElement.disabled = true;\n",
       "\n",
       "  if (!files) {\n",
       "    return {\n",
       "      response: {\n",
       "        action: 'complete',\n",
       "      }\n",
       "    };\n",
       "  }\n",
       "\n",
       "  for (const file of files) {\n",
       "    const li = document.createElement('li');\n",
       "    li.append(span(file.name, {fontWeight: 'bold'}));\n",
       "    li.append(span(\n",
       "        `(${file.type || 'n/a'}) - ${file.size} bytes, ` +\n",
       "        `last modified: ${\n",
       "            file.lastModifiedDate ? file.lastModifiedDate.toLocaleDateString() :\n",
       "                                    'n/a'} - `));\n",
       "    const percent = span('0% done');\n",
       "    li.appendChild(percent);\n",
       "\n",
       "    outputElement.appendChild(li);\n",
       "\n",
       "    const fileDataPromise = new Promise((resolve) => {\n",
       "      const reader = new FileReader();\n",
       "      reader.onload = (e) => {\n",
       "        resolve(e.target.result);\n",
       "      };\n",
       "      reader.readAsArrayBuffer(file);\n",
       "    });\n",
       "    // Wait for the data to be ready.\n",
       "    let fileData = yield {\n",
       "      promise: fileDataPromise,\n",
       "      response: {\n",
       "        action: 'continue',\n",
       "      }\n",
       "    };\n",
       "\n",
       "    // Use a chunked sending to avoid message size limits. See b/62115660.\n",
       "    let position = 0;\n",
       "    do {\n",
       "      const length = Math.min(fileData.byteLength - position, MAX_PAYLOAD_SIZE);\n",
       "      const chunk = new Uint8Array(fileData, position, length);\n",
       "      position += length;\n",
       "\n",
       "      const base64 = btoa(String.fromCharCode.apply(null, chunk));\n",
       "      yield {\n",
       "        response: {\n",
       "          action: 'append',\n",
       "          file: file.name,\n",
       "          data: base64,\n",
       "        },\n",
       "      };\n",
       "\n",
       "      let percentDone = fileData.byteLength === 0 ?\n",
       "          100 :\n",
       "          Math.round((position / fileData.byteLength) * 100);\n",
       "      percent.textContent = `${percentDone}% done`;\n",
       "\n",
       "    } while (position < fileData.byteLength);\n",
       "  }\n",
       "\n",
       "  // All done.\n",
       "  yield {\n",
       "    response: {\n",
       "      action: 'complete',\n",
       "    }\n",
       "  };\n",
       "}\n",
       "\n",
       "scope.google = scope.google || {};\n",
       "scope.google.colab = scope.google.colab || {};\n",
       "scope.google.colab._files = {\n",
       "  _uploadFiles,\n",
       "  _uploadFilesContinue,\n",
       "};\n",
       "})(self);\n",
       "</script> "
      ],
      "text/plain": [
       "<IPython.core.display.HTML object>"
      ]
     },
     "metadata": {},
     "output_type": "display_data"
    },
    {
     "name": "stdout",
     "output_type": "stream",
     "text": [
      "Saving mixture.wav to mixture.wav\n",
      "File mixture.wav uploaded with length 28854164 bytes\n"
     ]
    }
   ],
   "source": [
    "#Execute if necessary to upload test song in the Google Colab workspace\n",
    "from google.colab import files\n",
    "import os\n",
    "\n",
    "# Upload multiple files\n",
    "uploaded = files.upload()\n",
    "# Print the uploaded files' details\n",
    "for filename, content in uploaded.items():\n",
    "    print(f'File {filename} uploaded with length {len(content)} bytes')\n",
    "# Step 2: Get the original file name\n",
    "original_filename = list(uploaded.keys())[0]\n",
    "# Step 3: Specify the new file name\n",
    "new_filename = \"Actions - One Minute Smile-hlp_0005_mixture.wav\"\n",
    "# Step 4: Rename the file\n",
    "os.rename(original_filename, new_filename)"
   ]
  },
  {
   "cell_type": "code",
   "execution_count": 42,
   "metadata": {
    "id": "X88zW4Zza4wo"
   },
   "outputs": [],
   "source": [
    "# Obtain audio file for processing\n",
    "SAMPLE_SONG = '/content/Actions - One Minute Smile-hlp_0005_mixture.wav'\n",
    "waveform, sample_rate = torchaudio.load(SAMPLE_SONG)  # replace SAMPLE_SONG with desired path for different song\n",
    "waveform = waveform.to(device)\n",
    "\n",
    "#resample waveform to analyis sampling rate and standardize (0-mean, unit std) it\n",
    "ANA_SAMPLE_RATE = 22050\n",
    "resampler = torchaudio.transforms.Resample(sample_rate, ANA_SAMPLE_RATE, dtype=waveform.dtype)\n",
    "rswaveform = resampler(waveform)\n",
    "ref = rswaveform.mean(0)\n",
    "rswaveform = (rswaveform - ref.mean()) / ref.std()  # normalization\n",
    "\n",
    "# parameters\n",
    "#segment: int = 10\n",
    "#overlap = 0.1\n",
    "#features = featureanalysis(waveform,segment,overlap)\n",
    "\n",
    "#bn = binauralanalysis(rswaveform)\n",
    "\n",
    "#sources = separate_sources(\n",
    "#    model,\n",
    "#    waveform[None],\n",
    "#    device=device,\n",
    "#    segment=segment,\n",
    "#    overlap=overlap,\n",
    "#)[0]\n",
    "#sources = sources * ref.std() + ref.mean()\n",
    "\n",
    "#sources_list = model.sources\n",
    "#sources = list(sources)\n",
    "\n",
    "#audios = dict(zip(sources_list, sources))\n",
    "\n",
    "# Process waveform through pipeline\n",
    "featurevec = BinauralFeatures(rswaveform)"
   ]
  },
  {
   "cell_type": "code",
   "execution_count": 1,
   "metadata": {
    "colab": {
     "base_uri": "https://localhost:8080/",
     "height": 176
    },
    "id": "XafTZ1nDrG-J",
    "outputId": "fb3bae92-0511-426d-ca9b-66e1bc08ea76",
    "tags": []
   },
   "outputs": [
    {
     "ename": "NameError",
     "evalue": "name 'featurevec' is not defined",
     "output_type": "error",
     "traceback": [
      "\u001b[0;31m---------------------------------------------------------------------------\u001b[0m",
      "\u001b[0;31mNameError\u001b[0m                                 Traceback (most recent call last)",
      "Cell \u001b[0;32mIn[1], line 1\u001b[0m\n\u001b[0;32m----> 1\u001b[0m \u001b[43mfeaturevec\u001b[49m\n",
      "\u001b[0;31mNameError\u001b[0m: name 'featurevec' is not defined"
     ]
    }
   ],
   "source": [
    "featurevec"
   ]
  },
  {
   "cell_type": "code",
   "execution_count": 42,
   "metadata": {
    "id": "xZGnY09D8_md"
   },
   "outputs": [],
   "source": [
    "cntransformer = torchaudio.transforms.SpectralCentroid(sample_rate = ANA_SAMPLE_RATE, n_fft = 256, hop_length=16)\n",
    "ycn = cntransformer(rswaveform)"
   ]
  },
  {
   "cell_type": "code",
   "execution_count": 11,
   "metadata": {
    "id": "B-7D34-xGJeg"
   },
   "outputs": [],
   "source": [
    "feats = binauralanalysis(rswaveform)"
   ]
  },
  {
   "cell_type": "markdown",
   "metadata": {
    "id": "KiAUjYQ4a4wo"
   },
   "source": [
    "### 5.1 Feature analysis\n",
    "\n",
    "\n",
    "\n"
   ]
  },
  {
   "cell_type": "code",
   "execution_count": 15,
   "metadata": {
    "id": "3jdR4Unma4wp"
   },
   "outputs": [],
   "source": [
    "N_FFT = 128\n",
    "N_HOP = 4\n",
    "stft = torchaudio.transforms.Spectrogram(\n",
    "    n_fft=N_FFT,\n",
    "    hop_length=N_HOP,\n",
    "    power=None,\n",
    ")"
   ]
  },
  {
   "cell_type": "code",
   "execution_count": 12,
   "metadata": {
    "colab": {
     "base_uri": "https://localhost:8080/"
    },
    "id": "TnE-eWCDZbmV",
    "outputId": "dbf89ed2-0b69-4b2b-c2b6-cf95525ece51"
   },
   "outputs": [
    {
     "data": {
      "text/plain": [
       "{'meancentroids': tensor([1897.6011, 1923.3502]),\n",
       " 'stdcentroids': tensor([756.0094, 763.6097]),\n",
       " 'meancentroidslope': tensor(-3.3405),\n",
       " 'avgiacnt': tensor(1910.4757)}"
      ]
     },
     "execution_count": 12,
     "metadata": {},
     "output_type": "execute_result"
    }
   ],
   "source": [
    "feats"
   ]
  },
  {
   "cell_type": "code",
   "execution_count": 34,
   "metadata": {
    "colab": {
     "base_uri": "https://localhost:8080/"
    },
    "id": "LVopsPMgZtKW",
    "outputId": "7e8de646-91e6-4eed-ec3b-039e50089122"
   },
   "outputs": [
    {
     "data": {
      "text/plain": [
       "tensor([0.0274, 0.0319, 0.0434,  ..., 0.0088, 0.0088, 0.0088])"
      ]
     },
     "execution_count": 34,
     "metadata": {},
     "output_type": "execute_result"
    }
   ],
   "source": []
  },
  {
   "cell_type": "code",
   "execution_count": 35,
   "metadata": {
    "colab": {
     "base_uri": "https://localhost:8080/"
    },
    "id": "qN4rfpMgZ4RX",
    "outputId": "b4c1dccb-bb98-401e-e7f7-9353ef68d0b2"
   },
   "outputs": [
    {
     "data": {
      "text/plain": [
       "torch.Size([4617455])"
      ]
     },
     "execution_count": 35,
     "metadata": {},
     "output_type": "execute_result"
    }
   ],
   "source": [
    "bah.shape"
   ]
  },
  {
   "cell_type": "markdown",
   "metadata": {
    "id": "EFIwoQeEa4wp"
   },
   "source": [
    "### 5.2 Audio Segmenting and Processing\n",
    "\n",
    "Below is the processing steps and segmenting 5 seconds of the tracks in\n",
    "order to feed into the spectrogram and to caclulate the respective SDR\n",
    "scores.\n",
    "\n",
    "\n"
   ]
  },
  {
   "cell_type": "code",
   "execution_count": null,
   "metadata": {
    "id": "4VPWYkAua4wp"
   },
   "outputs": [],
   "source": [
    "def output_results(original_source: torch.Tensor, predicted_source: torch.Tensor, source: str):\n",
    "#    print(\n",
    "#        \"SDR score is:\",\n",
    "#        separation.bss_eval_sources(original_source.detach().numpy(), predicted_source.detach().numpy())[0].mean(),\n",
    "#    )\n",
    "    plot_spectrogram(stft(predicted_source)[0], f\"Spectrogram - {source}\")\n",
    "    return Audio(predicted_source, rate=sample_rate)\n",
    "\n",
    "\n",
    "segment_start = 150\n",
    "segment_end = 155\n",
    "\n",
    "frame_start = segment_start * sample_rate\n",
    "frame_end = segment_end * sample_rate\n",
    "\n",
    "drums_original = download_asset(\"tutorial-assets/hdemucs_drums_segment.wav\")\n",
    "bass_original = download_asset(\"tutorial-assets/hdemucs_bass_segment.wav\")\n",
    "vocals_original = download_asset(\"tutorial-assets/hdemucs_vocals_segment.wav\")\n",
    "other_original = download_asset(\"tutorial-assets/hdemucs_other_segment.wav\")\n",
    "\n",
    "drums_spec = audios[\"drums\"][:, frame_start:frame_end].cpu()\n",
    "drums, sample_rate = torchaudio.load(drums_original)\n",
    "\n",
    "bass_spec = audios[\"bass\"][:, frame_start:frame_end].cpu()\n",
    "bass, sample_rate = torchaudio.load(bass_original)\n",
    "\n",
    "vocals_spec = audios[\"vocals\"][:, frame_start:frame_end].cpu()\n",
    "vocals, sample_rate = torchaudio.load(vocals_original)\n",
    "\n",
    "other_spec = audios[\"other\"][:, frame_start:frame_end].cpu()\n",
    "other, sample_rate = torchaudio.load(other_original)\n",
    "\n",
    "mix_spec = mixture[:, frame_start:frame_end].cpu()"
   ]
  },
  {
   "cell_type": "markdown",
   "metadata": {
    "id": "xF-sd2fga4wp"
   },
   "source": [
    "### 5.3 Spectrograms and Audio\n",
    "\n",
    "In the next 5 cells, you can see the spectrograms with the respective\n",
    "audios. The audios can be clearly visualized using the spectrogram.\n",
    "\n",
    "The mixture clip comes from the original track, and the remaining\n",
    "tracks are the model output\n",
    "\n",
    "\n"
   ]
  },
  {
   "cell_type": "code",
   "execution_count": null,
   "metadata": {
    "id": "tD9gZS8ma4wp"
   },
   "outputs": [],
   "source": [
    "# Mixture Clip\n",
    "plot_spectrogram(stft(mix_spec)[0], \"Spectrogram - Mixture\")\n",
    "Audio(mix_spec, rate=sample_rate)"
   ]
  },
  {
   "cell_type": "markdown",
   "metadata": {
    "id": "UReiW2-za4wp"
   },
   "source": [
    "Drums SDR, Spectrogram, and Audio\n",
    "\n",
    "\n"
   ]
  },
  {
   "cell_type": "code",
   "execution_count": null,
   "metadata": {
    "id": "Z5KjKVMYa4wp"
   },
   "outputs": [],
   "source": [
    "# Drums Clip\n",
    "output_results(drums, drums_spec, \"drums\")"
   ]
  },
  {
   "cell_type": "markdown",
   "metadata": {
    "id": "81EUJx7Qa4wp"
   },
   "source": [
    "Bass SDR, Spectrogram, and Audio\n",
    "\n",
    "\n"
   ]
  },
  {
   "cell_type": "code",
   "execution_count": null,
   "metadata": {
    "id": "pbzdO9zLa4wp"
   },
   "outputs": [],
   "source": [
    "# Bass Clip\n",
    "output_results(bass, bass_spec, \"bass\")"
   ]
  },
  {
   "cell_type": "markdown",
   "metadata": {
    "id": "j8Wr_hl1a4wp"
   },
   "source": [
    "Vocals SDR, Spectrogram, and Audio\n",
    "\n",
    "\n"
   ]
  },
  {
   "cell_type": "code",
   "execution_count": null,
   "metadata": {
    "id": "36TE9-Lwa4wp"
   },
   "outputs": [],
   "source": [
    "# Vocals Audio\n",
    "output_results(vocals, vocals_spec, \"vocals\")"
   ]
  },
  {
   "cell_type": "markdown",
   "metadata": {
    "id": "gWgvfshya4wp"
   },
   "source": [
    "Other SDR, Spectrogram, and Audio\n",
    "\n",
    "\n"
   ]
  },
  {
   "cell_type": "code",
   "execution_count": null,
   "metadata": {
    "id": "-B_0z10xa4wp"
   },
   "outputs": [],
   "source": [
    "# Other Clip\n",
    "output_results(other, other_spec, \"other\")"
   ]
  },
  {
   "cell_type": "code",
   "execution_count": null,
   "metadata": {
    "id": "SXDHxAqUa4wp"
   },
   "outputs": [],
   "source": [
    "# Optionally, the full audios can be heard in from running the next 5\n",
    "# cells. They will take a bit longer to load, so to run simply uncomment\n",
    "# out the ``Audio`` cells for the respective track to produce the audio\n",
    "# for the full song.\n",
    "#\n",
    "\n",
    "# Full Audio\n",
    "# Audio(mixture, rate=sample_rate)\n",
    "\n",
    "# Drums Audio\n",
    "# Audio(audios[\"drums\"], rate=sample_rate)\n",
    "\n",
    "# Bass Audio\n",
    "# Audio(audios[\"bass\"], rate=sample_rate)\n",
    "\n",
    "# Vocals Audio\n",
    "# Audio(audios[\"vocals\"], rate=sample_rate)\n",
    "\n",
    "# Other Audio\n",
    "# Audio(audios[\"other\"], rate=sample_rate)"
   ]
  }
 ],
 "metadata": {
  "colab": {
   "include_colab_link": true,
   "name": "binaural_xtalk_demixing_estimation.ipynb",
   "provenance": []
  },
  "kernelspec": {
   "display_name": "Python 3 (ipykernel)",
   "language": "python",
   "name": "python3"
  },
  "language_info": {
   "codemirror_mode": {
    "name": "ipython",
    "version": 3
   },
   "file_extension": ".py",
   "mimetype": "text/x-python",
   "name": "python",
   "nbconvert_exporter": "python",
   "pygments_lexer": "ipython3",
   "version": "3.10.13"
  }
 },
 "nbformat": 4,
 "nbformat_minor": 4
}
