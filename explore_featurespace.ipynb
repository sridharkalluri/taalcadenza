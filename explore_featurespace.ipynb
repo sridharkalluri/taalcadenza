{
 "cells": [
  {
   "cell_type": "code",
   "execution_count": 2,
   "metadata": {},
   "outputs": [
    {
     "ename": "SyntaxError",
     "evalue": "unterminated string literal (detected at line 27) (2386894392.py, line 27)",
     "output_type": "error",
     "traceback": [
      "\u001b[0;36m  Cell \u001b[0;32mIn[2], line 27\u001b[0;36m\u001b[0m\n\u001b[0;31m    writer = SummaryWriter('runs/xtalkdemix3features_2)\u001b[0m\n\u001b[0m                           ^\u001b[0m\n\u001b[0;31mSyntaxError\u001b[0m\u001b[0;31m:\u001b[0m unterminated string literal (detected at line 27)\n"
     ]
    }
   ],
   "source": [
    "# 1. Import dependencies\n",
    "import xtalkdemixhelpers as xdmx\n",
    "from torch.utils.data import Dataset\n",
    "from torch.utils.data import DataLoader\n",
    "from torch import nn\n",
    "from pathlib import Path\n",
    "\n",
    "\n",
    "# 2. Define and load training and validation data sets\n",
    "# Initialize audio, hrtf, and metadata directories\n",
    "metadatadir = \"/Users/sridhar/Documents/Projects/clarity/clarity/cad_icassp_2024/metadata\"\n",
    "atmic_dir = \"/Users/sridhar/Documents/Projects/clarity/clarity/cad_icassp_2024/audio/at_mic_music\"\n",
    "audio_dir = \"/Users/sridhar/Documents/Projects/clarity/clarity/cad_icassp_2024/audio/music\"\n",
    "CHUNK = 4 #duration of chunks of audio, in seconds, from the dataset that will be used in model training\n",
    "BATCH = 256\n",
    "\n",
    "\n",
    "# 3. Define dataset\n",
    "dataset = xdmx.AtMicCadenzaICASSP2024_3(\n",
    "    metadatadir = metadatadir,\n",
    "    atmicdir = atmic_dir,\n",
    "    audiodir = audio_dir,\n",
    ")\n",
    "\n",
    "from torch.utils.tensorboard import SummaryWriter\n",
    "# default `log_dir` is \"runs\" - we'll be more specific here\n",
    "writer = SummaryWriter('runs/xtalkdemix3features_2')\n",
    "\n",
    "# write random selection of data to TensorBoard for examining features using projection tool\n",
    "embed_dataloader = DataLoader(dataset, batch_size=BATCH, shuffle=True)\n",
    "embed_features, _, embed_spat, _ = next(iter(embed_dataloader))\n",
    "writer.add_embedding(embed_features,metadata=embed_spat)\n",
    "    \n",
    "writer.close()\n",
    "print(\"Done!\")"
   ]
  }
 ],
 "metadata": {
  "kernelspec": {
   "display_name": "clarity",
   "language": "python",
   "name": "python3"
  },
  "language_info": {
   "codemirror_mode": {
    "name": "ipython",
    "version": 3
   },
   "file_extension": ".py",
   "mimetype": "text/x-python",
   "name": "python",
   "nbconvert_exporter": "python",
   "pygments_lexer": "ipython3",
   "version": "3.10.12"
  }
 },
 "nbformat": 4,
 "nbformat_minor": 2
}
