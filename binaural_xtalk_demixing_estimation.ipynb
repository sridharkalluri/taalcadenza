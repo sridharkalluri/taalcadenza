{
  "cells": [
    {
      "cell_type": "markdown",
      "metadata": {
        "id": "view-in-github",
        "colab_type": "text"
      },
      "source": [
        "<a href=\"https://colab.research.google.com/github/sridharkalluri/taalcadenza/blob/main/binaural_xtalk_demixing_estimation.ipynb\" target=\"_parent\"><img src=\"https://colab.research.google.com/assets/colab-badge.svg\" alt=\"Open In Colab\"/></a>"
      ]
    },
    {
      "cell_type": "markdown",
      "metadata": {
        "id": "MB6UO0zma4wi"
      },
      "source": [
        "\n",
        "# Binaural cross-talk de-mixing estimation\n",
        "\n",
        "**Author**: [Sridhar Kalluri](https://github.com/skim0514)_\n",
        "\n",
        "Based on TorchAudio demo of Hybrid Demucs model for music source separation.\n"
      ]
    },
    {
      "cell_type": "markdown",
      "metadata": {
        "id": "lidTaYIaa4wl"
      },
      "source": [
        "## 1. Overview\n",
        "\n",
        "Binaural cross-talk de-mixing with the following steps\n",
        "\n",
        "1. Build the pipeline -- install dependencies, load audio file, specify model, specify computational device.\n",
        "2. Format the waveform into chunks of expected sizes and loop through chunks (with overlap) and feed into pipeline.\n",
        "3. Collect output chunks and combine according to the way they have been overlapped.\n",
        "\n",
        "\n"
      ]
    },
    {
      "cell_type": "markdown",
      "metadata": {
        "id": "fXXzCJNBa4wl"
      },
      "source": [
        "## 2. Preparation\n",
        "\n",
        "First, we install the necessary dependencies. The first requirement is\n",
        "``torchaudio`` and ``torch``\n",
        "\n",
        "\n"
      ]
    },
    {
      "cell_type": "code",
      "execution_count": 7,
      "metadata": {
        "id": "FH0gctW2a4wm",
        "colab": {
          "base_uri": "https://localhost:8080/"
        },
        "outputId": "3448a691-a3e7-48d8-8ffb-993dfbe2b484"
      },
      "outputs": [
        {
          "output_type": "stream",
          "name": "stdout",
          "text": [
            "2.1.0+cu118\n",
            "2.1.0+cu118\n"
          ]
        }
      ],
      "source": [
        "import torch\n",
        "import torchaudio\n",
        "\n",
        "print(torch.__version__)\n",
        "print(torchaudio.__version__)\n",
        "\n",
        "import matplotlib.pyplot as plt"
      ]
    },
    {
      "cell_type": "code",
      "execution_count": 8,
      "metadata": {
        "id": "DSudHqHJa4wn"
      },
      "outputs": [],
      "source": [
        "from IPython.display import Audio\n",
        "#from torchaudio.pipelines import HDEMUCS_HIGH_MUSDB_PLUS\n",
        "from torchaudio.utils import download_asset"
      ]
    },
    {
      "cell_type": "markdown",
      "metadata": {
        "id": "tWNYoNqoa4wn"
      },
      "source": [
        "## 3. Construct the pipeline\n",
        "\n",
        "Pre-trained model weights and related pipeline components are bundled as\n",
        ":py:func:`torchaudio.pipelines.HDEMUCS_HIGH_MUSDB_PLUS`. This is a\n",
        ":py:class:`torchaudio.models.HDemucs` model trained on\n",
        "[MUSDB18-HQ](https://zenodo.org/record/3338373)_ and additional\n",
        "internal extra training data.\n",
        "This specific model is suited for higher sample rates, around 44.1 kHZ\n",
        "and has a nfft value of 4096 with a depth of 6 in the model implementation.\n",
        "\n"
      ]
    },
    {
      "cell_type": "code",
      "execution_count": 10,
      "metadata": {
        "id": "UXXrVGEpa4wn"
      },
      "outputs": [],
      "source": [
        "#bundle = HDEMUCS_HIGH_MUSDB_PLUS\n",
        "\n",
        "#model = bundle.get_model()\n",
        "\n",
        "device = torch.device(\"cuda:0\" if torch.cuda.is_available() else \"cpu\")\n",
        "\n",
        "#model.to(device)\n",
        "\n",
        "#sample_rate = bundle.sample_rate\n",
        "\n",
        "#print(f\"Sample rate: {sample_rate}\")"
      ]
    },
    {
      "cell_type": "markdown",
      "metadata": {
        "id": "RjzaGlrwa4wn"
      },
      "source": [
        "## 4. Configure the application function\n",
        "\n",
        "Because ``HDemucs`` is a large and memory-consuming model it is\n",
        "very difficult to have sufficient memory to apply the model to\n",
        "an entire song at once. To work around this limitation,\n",
        "obtain the separated sources of a full song by\n",
        "chunking the song into smaller segments and run through the\n",
        "model piece by piece, and then rearrange back together.\n",
        "\n",
        "When doing this, it is important to ensure some\n",
        "overlap between each of the chunks, to accommodate for artifacts at the\n",
        "edges. Due to the nature of the model, sometimes the edges have\n",
        "inaccurate or undesired sounds included.\n",
        "\n",
        "We provide a sample implementation of chunking and arrangement below. This\n",
        "implementation takes an overlap of 1 second on each side, and then does\n",
        "a linear fade in and fade out on each side. Using the faded overlaps, I\n",
        "add these segments together, to ensure a constant volume throughout.\n",
        "This accommodates for the artifacts by using less of the edges of the\n",
        "model outputs.\n",
        "\n",
        "<img src=\"https://download.pytorch.org/torchaudio/tutorial-assets/HDemucs_Drawing.jpg\">\n",
        "\n"
      ]
    },
    {
      "cell_type": "code",
      "execution_count": null,
      "metadata": {
        "id": "mz3J6RFVa4wo"
      },
      "outputs": [],
      "source": [
        "from torchaudio.transforms import Fade\n",
        "\n",
        "\n",
        "def separate_sources(\n",
        "    model,\n",
        "    mix,\n",
        "    segment=10.0,\n",
        "    overlap=0.1,\n",
        "    device=None,\n",
        "):\n",
        "    \"\"\"\n",
        "    Apply model to a given mixture. Use fade, and add segments together in order to add model segment by segment.\n",
        "\n",
        "    Args:\n",
        "        segment (int): segment length in seconds\n",
        "        device (torch.device, str, or None): if provided, device on which to\n",
        "            execute the computation, otherwise `mix.device` is assumed.\n",
        "            When `device` is different from `mix.device`, only local computations will\n",
        "            be on `device`, while the entire tracks will be stored on `mix.device`.\n",
        "    \"\"\"\n",
        "    if device is None:\n",
        "        device = mix.device\n",
        "    else:\n",
        "        device = torch.device(device)\n",
        "\n",
        "    batch, channels, length = mix.shape\n",
        "\n",
        "    chunk_len = int(sample_rate * segment * (1 + overlap))\n",
        "    start = 0\n",
        "    end = chunk_len\n",
        "    overlap_frames = overlap * sample_rate\n",
        "    fade = Fade(fade_in_len=0, fade_out_len=int(overlap_frames), fade_shape=\"linear\")\n",
        "\n",
        "    final = torch.zeros(batch, len(model.sources), channels, length, device=device)\n",
        "\n",
        "    while start < length - overlap_frames:\n",
        "        chunk = mix[:, :, start:end]\n",
        "        with torch.no_grad():\n",
        "            out = model.forward(chunk)\n",
        "        out = fade(out)\n",
        "        final[:, :, :, start:end] += out\n",
        "        if start == 0:\n",
        "            fade.fade_in_len = int(overlap_frames)\n",
        "            start += int(chunk_len - overlap_frames)\n",
        "        else:\n",
        "            start += chunk_len\n",
        "        end += chunk_len\n",
        "        if end >= length:\n",
        "            fade.fade_out_len = 0\n",
        "    return final\n",
        "\n",
        "\n",
        "def plot_spectrogram(stft, title=\"Spectrogram\"):\n",
        "    magnitude = stft.abs()\n",
        "    spectrogram = 20 * torch.log10(magnitude + 1e-8).numpy()\n",
        "    _, axis = plt.subplots(1, 1)\n",
        "    axis.imshow(spectrogram, cmap=\"viridis\", vmin=-60, vmax=0, origin=\"lower\", aspect=\"auto\")\n",
        "    axis.set_title(title)\n",
        "    plt.tight_layout()"
      ]
    },
    {
      "cell_type": "markdown",
      "metadata": {
        "id": "kEneBBa1a4wo"
      },
      "source": [
        "## 5. Run Model\n",
        "\n",
        "Finally, we run the model and store the separate source files in a\n",
        "directory\n",
        "\n",
        "As a test song, we will be using A Classic Education by NightOwl from\n",
        "MedleyDB (Creative Commons BY-NC-SA 4.0). This is also located in\n",
        "[MUSDB18-HQ](https://zenodo.org/record/3338373)_ dataset within\n",
        "the ``train`` sources.\n",
        "\n",
        "In order to test with a different song, the variable names and urls\n",
        "below can be changed alongside with the parameters to test the song\n",
        "separator in different ways.\n",
        "\n",
        "\n"
      ]
    },
    {
      "cell_type": "code",
      "execution_count": 11,
      "metadata": {
        "id": "X88zW4Zza4wo",
        "colab": {
          "base_uri": "https://localhost:8080/"
        },
        "outputId": "43d94d7f-11ae-462d-f6f0-81bb03e98ebe"
      },
      "outputs": [
        {
          "output_type": "stream",
          "name": "stdout",
          "text": [
            "Separating track\n"
          ]
        }
      ],
      "source": [
        "# We download the audio file from our storage. Feel free to download another file and use audio from a specific path\n",
        "SAMPLE_SONG = '/content/Alexander Ross - Goodbye Bolero_hlp0067_mixture.wav'\n",
        "#SAMPLE_SONG = download_asset()\n",
        "waveform, sample_rate = torchaudio.load(SAMPLE_SONG)  # replace SAMPLE_SONG with desired path for different song\n",
        "waveform = waveform.to(device)\n",
        "mixture = waveform\n",
        "\n",
        "# parameters\n",
        "segment: int = 10\n",
        "overlap = 0.1\n",
        "\n",
        "print(\"Separating track\")\n",
        "\n",
        "ref = waveform.mean(0)\n",
        "waveform = (waveform - ref.mean()) / ref.std()  # normalization\n",
        "\n",
        "#sources = separate_sources(\n",
        "#    model,\n",
        "#    waveform[None],\n",
        "#    device=device,\n",
        "#    segment=segment,\n",
        "#    overlap=overlap,\n",
        "#)[0]\n",
        "#sources = sources * ref.std() + ref.mean()\n",
        "\n",
        "#sources_list = model.sources\n",
        "#sources = list(sources)\n",
        "\n",
        "#audios = dict(zip(sources_list, sources))"
      ]
    },
    {
      "cell_type": "markdown",
      "metadata": {
        "id": "KiAUjYQ4a4wo"
      },
      "source": [
        "### 5.1 Separate Track\n",
        "\n",
        "The default set of pretrained weights that has been loaded has 4 sources\n",
        "that it is separated into: drums, bass, other, and vocals in that order.\n",
        "They have been stored into the dict “audios” and therefore can be\n",
        "accessed there. For the four sources, there is a separate cell for each,\n",
        "that will create the audio, the spectrogram graph, and also calculate\n",
        "the SDR score. SDR is the signal-to-distortion\n",
        "ratio, essentially a representation to the “quality” of an audio track.\n",
        "\n",
        "\n"
      ]
    },
    {
      "cell_type": "code",
      "execution_count": null,
      "metadata": {
        "id": "3jdR4Unma4wp"
      },
      "outputs": [],
      "source": [
        "N_FFT = 4096\n",
        "N_HOP = 4\n",
        "stft = torchaudio.transforms.Spectrogram(\n",
        "    n_fft=N_FFT,\n",
        "    hop_length=N_HOP,\n",
        "    power=None,\n",
        ")"
      ]
    },
    {
      "cell_type": "markdown",
      "metadata": {
        "id": "EFIwoQeEa4wp"
      },
      "source": [
        "### 5.2 Audio Segmenting and Processing\n",
        "\n",
        "Below is the processing steps and segmenting 5 seconds of the tracks in\n",
        "order to feed into the spectrogram and to caclulate the respective SDR\n",
        "scores.\n",
        "\n",
        "\n"
      ]
    },
    {
      "cell_type": "code",
      "execution_count": null,
      "metadata": {
        "id": "4VPWYkAua4wp"
      },
      "outputs": [],
      "source": [
        "def output_results(original_source: torch.Tensor, predicted_source: torch.Tensor, source: str):\n",
        "    print(\n",
        "        \"SDR score is:\",\n",
        "        separation.bss_eval_sources(original_source.detach().numpy(), predicted_source.detach().numpy())[0].mean(),\n",
        "    )\n",
        "    plot_spectrogram(stft(predicted_source)[0], f\"Spectrogram - {source}\")\n",
        "    return Audio(predicted_source, rate=sample_rate)\n",
        "\n",
        "\n",
        "segment_start = 150\n",
        "segment_end = 155\n",
        "\n",
        "frame_start = segment_start * sample_rate\n",
        "frame_end = segment_end * sample_rate\n",
        "\n",
        "drums_original = download_asset(\"tutorial-assets/hdemucs_drums_segment.wav\")\n",
        "bass_original = download_asset(\"tutorial-assets/hdemucs_bass_segment.wav\")\n",
        "vocals_original = download_asset(\"tutorial-assets/hdemucs_vocals_segment.wav\")\n",
        "other_original = download_asset(\"tutorial-assets/hdemucs_other_segment.wav\")\n",
        "\n",
        "drums_spec = audios[\"drums\"][:, frame_start:frame_end].cpu()\n",
        "drums, sample_rate = torchaudio.load(drums_original)\n",
        "\n",
        "bass_spec = audios[\"bass\"][:, frame_start:frame_end].cpu()\n",
        "bass, sample_rate = torchaudio.load(bass_original)\n",
        "\n",
        "vocals_spec = audios[\"vocals\"][:, frame_start:frame_end].cpu()\n",
        "vocals, sample_rate = torchaudio.load(vocals_original)\n",
        "\n",
        "other_spec = audios[\"other\"][:, frame_start:frame_end].cpu()\n",
        "other, sample_rate = torchaudio.load(other_original)\n",
        "\n",
        "mix_spec = mixture[:, frame_start:frame_end].cpu()"
      ]
    },
    {
      "cell_type": "markdown",
      "metadata": {
        "id": "xF-sd2fga4wp"
      },
      "source": [
        "### 5.3 Spectrograms and Audio\n",
        "\n",
        "In the next 5 cells, you can see the spectrograms with the respective\n",
        "audios. The audios can be clearly visualized using the spectrogram.\n",
        "\n",
        "The mixture clip comes from the original track, and the remaining\n",
        "tracks are the model output\n",
        "\n",
        "\n"
      ]
    },
    {
      "cell_type": "code",
      "execution_count": null,
      "metadata": {
        "id": "tD9gZS8ma4wp"
      },
      "outputs": [],
      "source": [
        "# Mixture Clip\n",
        "plot_spectrogram(stft(mix_spec)[0], \"Spectrogram - Mixture\")\n",
        "Audio(mix_spec, rate=sample_rate)"
      ]
    },
    {
      "cell_type": "markdown",
      "metadata": {
        "id": "UReiW2-za4wp"
      },
      "source": [
        "Drums SDR, Spectrogram, and Audio\n",
        "\n",
        "\n"
      ]
    },
    {
      "cell_type": "code",
      "execution_count": null,
      "metadata": {
        "id": "Z5KjKVMYa4wp"
      },
      "outputs": [],
      "source": [
        "# Drums Clip\n",
        "output_results(drums, drums_spec, \"drums\")"
      ]
    },
    {
      "cell_type": "markdown",
      "metadata": {
        "id": "81EUJx7Qa4wp"
      },
      "source": [
        "Bass SDR, Spectrogram, and Audio\n",
        "\n",
        "\n"
      ]
    },
    {
      "cell_type": "code",
      "execution_count": null,
      "metadata": {
        "id": "pbzdO9zLa4wp"
      },
      "outputs": [],
      "source": [
        "# Bass Clip\n",
        "output_results(bass, bass_spec, \"bass\")"
      ]
    },
    {
      "cell_type": "markdown",
      "metadata": {
        "id": "j8Wr_hl1a4wp"
      },
      "source": [
        "Vocals SDR, Spectrogram, and Audio\n",
        "\n",
        "\n"
      ]
    },
    {
      "cell_type": "code",
      "execution_count": null,
      "metadata": {
        "id": "36TE9-Lwa4wp"
      },
      "outputs": [],
      "source": [
        "# Vocals Audio\n",
        "output_results(vocals, vocals_spec, \"vocals\")"
      ]
    },
    {
      "cell_type": "markdown",
      "metadata": {
        "id": "gWgvfshya4wp"
      },
      "source": [
        "Other SDR, Spectrogram, and Audio\n",
        "\n",
        "\n"
      ]
    },
    {
      "cell_type": "code",
      "execution_count": null,
      "metadata": {
        "id": "-B_0z10xa4wp"
      },
      "outputs": [],
      "source": [
        "# Other Clip\n",
        "output_results(other, other_spec, \"other\")"
      ]
    },
    {
      "cell_type": "code",
      "execution_count": null,
      "metadata": {
        "id": "SXDHxAqUa4wp"
      },
      "outputs": [],
      "source": [
        "# Optionally, the full audios can be heard in from running the next 5\n",
        "# cells. They will take a bit longer to load, so to run simply uncomment\n",
        "# out the ``Audio`` cells for the respective track to produce the audio\n",
        "# for the full song.\n",
        "#\n",
        "\n",
        "# Full Audio\n",
        "# Audio(mixture, rate=sample_rate)\n",
        "\n",
        "# Drums Audio\n",
        "# Audio(audios[\"drums\"], rate=sample_rate)\n",
        "\n",
        "# Bass Audio\n",
        "# Audio(audios[\"bass\"], rate=sample_rate)\n",
        "\n",
        "# Vocals Audio\n",
        "# Audio(audios[\"vocals\"], rate=sample_rate)\n",
        "\n",
        "# Other Audio\n",
        "# Audio(audios[\"other\"], rate=sample_rate)"
      ]
    }
  ],
  "metadata": {
    "kernelspec": {
      "display_name": "Python 3",
      "language": "python",
      "name": "python3"
    },
    "language_info": {
      "codemirror_mode": {
        "name": "ipython",
        "version": 3
      },
      "file_extension": ".py",
      "mimetype": "text/x-python",
      "name": "python",
      "nbconvert_exporter": "python",
      "pygments_lexer": "ipython3",
      "version": "3.10.13"
    },
    "colab": {
      "provenance": [],
      "name": "binaural_xtalk_demixing_estimation.ipynb",
      "include_colab_link": true
    }
  },
  "nbformat": 4,
  "nbformat_minor": 0
}